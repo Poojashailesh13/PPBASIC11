{
 "cells": [
  {
   "cell_type": "code",
   "execution_count": 3,
   "id": "ebe147cb",
   "metadata": {},
   "outputs": [
    {
     "name": "stdout",
     "output_type": "stream",
     "text": [
      "Enter the string : IAM THE KING OF THIS KINGDOM\n",
      "Enter k  (value for accepting string) : 2\n",
      "All words which are greater than given length  2 are  ['IAM', 'THE', 'KING', 'THIS', 'KINGDOM']\n"
     ]
    }
   ],
   "source": [
    "#1. Write a Python program to find words which are greater than given length k?\n",
    "myStr =  input('Enter the string : ')\n",
    "k = int(input('Enter k  (value for accepting string) : '))\n",
    "largerStrings = []\n",
    "words = myStr.split(\" \")\n",
    "for word in words:\n",
    "       if len(word) > k:\n",
    "              largerStrings.append(word)\n",
    "print(\"All words which are greater than given length \", k, \"are \", largerStrings)"
   ]
  },
  {
   "cell_type": "code",
   "execution_count": 5,
   "id": "04443a5f",
   "metadata": {},
   "outputs": [
    {
     "name": "stdout",
     "output_type": "stream",
     "text": [
      "INUERNINTELLIGENCE\n"
     ]
    }
   ],
   "source": [
    "#2. Write a Python program for removing i-th character from a string?\n",
    "def remove(string, i): \n",
    "  \n",
    "    for j in range(len(string)):\n",
    "        if j == i:\n",
    "            string = string.replace(string[i], \"\", 1)\n",
    "    return string\n",
    "if __name__ == '__main__':\n",
    "      \n",
    "    string = \"INUERONINTELLIGENCE\"\n",
    "    i = 5\n",
    "    print(remove(string, i))"
   ]
  },
  {
   "cell_type": "code",
   "execution_count": 7,
   "id": "98935006",
   "metadata": {},
   "outputs": [
    {
     "name": "stdout",
     "output_type": "stream",
     "text": [
      "['KING', 'QUEEN']\n",
      "KING-QUEEN\n"
     ]
    }
   ],
   "source": [
    "#3. Write a Python program to split and join a string?\n",
    "def split_string(string):\n",
    "    list_string = string.split(' ') \n",
    "    return list_string\n",
    "def join_string(list_string):\n",
    "    string = '-'.join(list_string)\n",
    "      \n",
    "    return string\n",
    "if __name__ == '__main__':\n",
    "    string = 'KING QUEEN'\n",
    "    list_string = split_string(string)\n",
    "    print(list_string)\n",
    "    new_string = join_string(list_string)\n",
    "    print(new_string)"
   ]
  },
  {
   "cell_type": "code",
   "execution_count": 2,
   "id": "b05b604f",
   "metadata": {},
   "outputs": [
    {
     "name": "stdout",
     "output_type": "stream",
     "text": [
      "Binary String\n",
      "Non Binary String\n"
     ]
    }
   ],
   "source": [
    "#4. Write a Python to check if a given string is binary string or not?\n",
    "def check(string) :\n",
    "    b = set(string)\n",
    "    s = {'0', '1'}\n",
    "    if s == b or b == {'0'} or b == {'1'}:\n",
    "        print(\"Binary String\")\n",
    "    else :\n",
    "        print(\"Non Binary String\")\n",
    "  \n",
    "s1= \"00110101\"\n",
    "# function calling\n",
    "check(s1)\n",
    "s2 = \"1010100200111\"\n",
    "check(s2)"
   ]
  },
  {
   "cell_type": "code",
   "execution_count": 3,
   "id": "c110e795",
   "metadata": {},
   "outputs": [
    {
     "name": "stdout",
     "output_type": "stream",
     "text": [
      "['Welcome', 'to']\n"
     ]
    }
   ],
   "source": [
    "#5. Write a Python program to find uncommon words from two Strings?\n",
    "def uncommon_words(s1, s2):\n",
    "    count = {}\n",
    "    for word in s1.split():\n",
    "        count[word] = count.get(word, 0) + 1\n",
    "    # words of string s2\n",
    "    for word in s2.split():\n",
    "        count[word] = count.get(word, 0) + 1\n",
    "    # return required list of words\n",
    "    return [word for word in count if count[word] == 1]\n",
    "\n",
    "s1=\"Studytonight\"\n",
    "s2=\"Welcome to Studytonight\"\n",
    "  \n",
    "# Print required answer\n",
    "print(uncommon_words(s1, s2))"
   ]
  },
  {
   "cell_type": "code",
   "execution_count": 4,
   "id": "c1f1397a",
   "metadata": {},
   "outputs": [
    {
     "name": "stdout",
     "output_type": "stream",
     "text": [
      "enter the string whose duplicate characters you want to find:IAM THE KING OF THIS KINGDOM\n",
      "the duplicate character in IAM THE KING OF THIS KINGDOM is\n",
      "['I', 'M', ' ', 'T', 'H', 'K', 'N', 'G', 'O']\n"
     ]
    }
   ],
   "source": [
    "#6. Write a Python to find all duplicate characters in string?\n",
    "string = input(\"enter the string whose duplicate characters you want to find:\")\n",
    "def duplicates_char(s):\n",
    "    elements = {}\n",
    "    for char in s:\n",
    "        if elements.get(char,None) != None:\n",
    "            elements[char]+=1\n",
    "        else:\n",
    "            elements[char] = 1\n",
    "    return [k for k,v in elements.items() if v>1]\n",
    "print(\"the duplicate character in\",string,\"is\")\n",
    "print(duplicates_char(string))"
   ]
  },
  {
   "cell_type": "code",
   "execution_count": 5,
   "id": "ecbfe6aa",
   "metadata": {},
   "outputs": [
    {
     "name": "stdout",
     "output_type": "stream",
     "text": [
      "Text has special characters.\n"
     ]
    }
   ],
   "source": [
    "#7. Write a Python Program to check if a string contains any special character?\n",
    "text = 'This is my text with special character (👽)'\n",
    "\n",
    "from string import printable\n",
    "\n",
    "if set(text).difference(printable):\n",
    "    print('Text has special characters.')\n",
    "else:\n",
    "    print(\"Text hasn't special characters.\")"
   ]
  },
  {
   "cell_type": "code",
   "execution_count": null,
   "id": "c54699c3",
   "metadata": {},
   "outputs": [],
   "source": []
  }
 ],
 "metadata": {
  "kernelspec": {
   "display_name": "Python 3 (ipykernel)",
   "language": "python",
   "name": "python3"
  },
  "language_info": {
   "codemirror_mode": {
    "name": "ipython",
    "version": 3
   },
   "file_extension": ".py",
   "mimetype": "text/x-python",
   "name": "python",
   "nbconvert_exporter": "python",
   "pygments_lexer": "ipython3",
   "version": "3.9.7"
  }
 },
 "nbformat": 4,
 "nbformat_minor": 5
}
